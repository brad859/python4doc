{
 "cells": [
  {
   "cell_type": "markdown",
   "metadata": {
    "id": "8a0Z5NxbmiOt"
   },
   "source": [
    "# Object-Oriented-Programming (OOP)"
   ]
  },
  {
   "cell_type": "markdown",
   "metadata": {
    "id": "DcznzJ1WmiOt"
   },
   "source": [
    "## Tasks Today:\n",
    "\n",
    "   \n",
    "\n",
    "1) <b>Creating a Class (Initializing/Declaring)</b> <br>\n",
    "2) <b>Using a Class (Instantiating)</b> <br>\n",
    " &nbsp;&nbsp;&nbsp;&nbsp; a) Creating One Instance <br>\n",
    " &nbsp;&nbsp;&nbsp;&nbsp; b) Creating Multiple Instances <br>\n",
    " &nbsp;&nbsp;&nbsp;&nbsp; c) In-Class Exercise #1 - Create a Class 'Car' and instantiate three different makes of cars <br>\n",
    "3) <b>The \\__init\\__() Method</b> <br>\n",
    " &nbsp;&nbsp;&nbsp;&nbsp; a) The 'self' Attribute <br>\n",
    "4) <b>Class Attributes</b> <br>\n",
    " &nbsp;&nbsp;&nbsp;&nbsp; a) Initializing Attributes <br>\n",
    " &nbsp;&nbsp;&nbsp;&nbsp; b) Setting an Attribute Outside of the \\__init\\__() Method <br>\n",
    " &nbsp;&nbsp;&nbsp;&nbsp; c) Setting Defaults for Attributes <br>\n",
    " &nbsp;&nbsp;&nbsp;&nbsp; d) Accessing Class Attributes <br>\n",
    " &nbsp;&nbsp;&nbsp;&nbsp; e) Changing Class Attributes <br>\n",
    " &nbsp;&nbsp;&nbsp;&nbsp; f) In-Class Exercise #2 - Add a color and wheels attribute to your 'Car' class <br>\n",
    "5) <b>Class Methods</b> <br>\n",
    " &nbsp;&nbsp;&nbsp;&nbsp; a) Creating <br>\n",
    " &nbsp;&nbsp;&nbsp;&nbsp; b) Calling <br>\n",
    " &nbsp;&nbsp;&nbsp;&nbsp; c) Modifying an Attribute's Value Through a Method <br>\n",
    " &nbsp;&nbsp;&nbsp;&nbsp; d) Incrementing an Attribute's Value Through a Method <br>\n",
    " &nbsp;&nbsp;&nbsp;&nbsp; e) In-Class Exercise #3 - Add a method that prints the cars color and wheel number, then call them <br>\n",
    "6) <b>Inheritance</b> <br>\n",
    " &nbsp;&nbsp;&nbsp;&nbsp; a) Syntax for Inheriting from a Parent Class <br>\n",
    " &nbsp;&nbsp;&nbsp;&nbsp; b) The \\__init\\__() Method for a Child Class (super()) <br>\n",
    " &nbsp;&nbsp;&nbsp;&nbsp; c) Defining Attributes and Methods for the Child Class <br>\n",
    " &nbsp;&nbsp;&nbsp;&nbsp; d) Method Overriding <br>\n",
    " &nbsp;&nbsp;&nbsp;&nbsp; e) In-Class Exercise #4 - Create a class 'Ford' that inherits from 'Car' class and initialize it as a Blue Ford Explorer with 4 wheels using the super() method <br>\n",
    "7) <b>Classes as Attributes</b> <br>\n",
    "8) <b>Exercises</b> <br>\n",
    " &nbsp;&nbsp;&nbsp;&nbsp; a) Exercise #1 - Turn the shopping cart program from yesterday into an object-oriented program <br>"
   ]
  },
  {
   "cell_type": "markdown",
   "metadata": {
    "id": "j2oPDQvbmiOu"
   },
   "source": [
    "## Creating a Class (Initializing/Declaring)\n",
    "<p>When creating a class, function, or even a variable you are initializing that object. Initializing and Declaring occur at the same time in Python, whereas in lower level languages you have to declare an object before initializing it. This is the first step in the process of using a class.</p>"
   ]
  },
  {
   "cell_type": "code",
   "execution_count": 3,
   "metadata": {
    "id": "7iUxYAfLmiOu",
    "tags": []
   },
   "outputs": [],
   "source": [
    "class Car():\n",
    "    wheels = 4\n",
    "    color = 'blue'"
   ]
  },
  {
   "cell_type": "markdown",
   "metadata": {
    "id": "RxbAt0j7miOu"
   },
   "source": [
    "## Using a Class (Instantiating)\n",
    "<p>The process of creating a class is called <i>Instantiating</i>. Each time you create a variable of that type of class, it is referred to as an <i>Instance</i> of that class. This is the second step in the process of using a class.</p>"
   ]
  },
  {
   "cell_type": "markdown",
   "metadata": {
    "id": "-LcmWzyjmiOu"
   },
   "source": [
    "##### Creating One Instance"
   ]
  },
  {
   "cell_type": "code",
   "execution_count": 4,
   "metadata": {
    "colab": {
     "base_uri": "https://localhost:8080/"
    },
    "id": "Zou1yjH_miOv",
    "outputId": "231ed11e-cfea-42b1-dd9b-0e1463be82ac",
    "tags": []
   },
   "outputs": [
    {
     "name": "stdout",
     "output_type": "stream",
     "text": [
      "4\n"
     ]
    }
   ],
   "source": [
    "ford = Car()\n",
    "print(ford.wheels)"
   ]
  },
  {
   "cell_type": "markdown",
   "metadata": {
    "id": "JrfahTESmiOv"
   },
   "source": [
    "##### Creating Multiple Instances"
   ]
  },
  {
   "cell_type": "code",
   "execution_count": 6,
   "metadata": {
    "colab": {
     "base_uri": "https://localhost:8080/",
     "height": 193
    },
    "id": "e2E2qzMymiOv",
    "outputId": "e5649a46-df38-4af8-f632-e8baccc1fd4d",
    "tags": []
   },
   "outputs": [
    {
     "name": "stdout",
     "output_type": "stream",
     "text": [
      "<class 'str'>\n",
      "4\n"
     ]
    }
   ],
   "source": [
    "chevy = Car()\n",
    "honda = Car()\n",
    "porsche = Car()\n",
    "\n",
    "print(type(porsche.color))\n",
    "print(porsche.wheels)"
   ]
  },
  {
   "cell_type": "markdown",
   "metadata": {
    "id": "nC8Ogb-zmiOv"
   },
   "source": [
    "##### In-Class Exercise #1 - Create a Class 'Car' and Instantiate three different makes of cars"
   ]
  },
  {
   "cell_type": "code",
   "execution_count": 7,
   "metadata": {
    "id": "SIMm9pzfmiOv",
    "tags": []
   },
   "outputs": [],
   "source": [
    "class Car():\n",
    "  Wheels = 4\n",
    "  Sunroof = \"yes\"\n",
    "  FWD = \"yes\"\n",
    "\n",
    "BMW = Car()\n",
    "Toyota = Car()\n",
    "GMC = Car()"
   ]
  },
  {
   "cell_type": "markdown",
   "metadata": {
    "id": "CNGWr42DmiOv"
   },
   "source": [
    "## The \\__init\\__() Method <br>\n",
    "<p>This method is used in almost every created class, and called only once upon the creation of the class instance. This method will initialize all variables needed for the object.</p>"
   ]
  },
  {
   "cell_type": "code",
   "execution_count": 8,
   "metadata": {
    "colab": {
     "base_uri": "https://localhost:8080/"
    },
    "id": "I9v8zNWXmiOv",
    "outputId": "c4aca176-69fe-4bb6-f4c2-31e1f251fe88",
    "tags": []
   },
   "outputs": [
    {
     "name": "stdout",
     "output_type": "stream",
     "text": [
      "4\n",
      "6\n"
     ]
    }
   ],
   "source": [
    "class Car():\n",
    "  engine = '4.7L' #Constant attribute\n",
    "\n",
    "  def __init__(self,wheels,color):\n",
    "    self.wheels = wheels\n",
    "    self.color = color\n",
    "\n",
    "ford = Car(4,'red')\n",
    "chevy = Car(6, 'black')\n",
    "\n",
    "print(ford.wheels)\n",
    "print(chevy.wheels)\n"
   ]
  },
  {
   "cell_type": "markdown",
   "metadata": {
    "id": "zAddnwAwmiOv"
   },
   "source": [
    "##### The 'self' Attribute <br>\n",
    "<p>This attribute is required to keep track of specific instance's attributes. Without the self attribute, the program would not know how to reference or keep track of an instance's attributes.</p>"
   ]
  },
  {
   "cell_type": "code",
   "execution_count": null,
   "metadata": {
    "id": "BUfTg8HRmiOv"
   },
   "outputs": [],
   "source": [
    "# see above"
   ]
  },
  {
   "cell_type": "markdown",
   "metadata": {
    "id": "PktV2zKymiOv"
   },
   "source": [
    "## Class Attributes <br>\n",
    "<p>While variables are inside of a class, they are referred to as attributes and not variables. When someone says 'attribute' you know they're speaking about a class. Attributes can be initialized through the init method, or outside of it.</p>"
   ]
  },
  {
   "cell_type": "markdown",
   "metadata": {
    "id": "vGzgL5yPmiOv"
   },
   "source": [
    "##### Initializing Attributes"
   ]
  },
  {
   "cell_type": "code",
   "execution_count": 9,
   "metadata": {
    "id": "ZFK65QqKmiOv",
    "tags": []
   },
   "outputs": [],
   "source": [
    "# see above\n",
    "\n",
    "class Toy():\n",
    "  kind = 'car'\n",
    "\n",
    "  def __init__(self, rooftop, horn, wheels = 4):\n",
    "    self.rooftop = rooftop\n",
    "    self.horn = horn\n",
    "    self.wheels = wheels\n",
    "\n",
    "tonka_truck = Toy(1,1)\n",
    "hotwheels_car = Toy(2,3,8)\n",
    "\n"
   ]
  },
  {
   "cell_type": "markdown",
   "metadata": {
    "id": "RU15NmEnmiOw"
   },
   "source": [
    "##### Accessing Class Attributes"
   ]
  },
  {
   "cell_type": "code",
   "execution_count": 10,
   "metadata": {
    "colab": {
     "base_uri": "https://localhost:8080/"
    },
    "id": "86jJ_VxLmiOw",
    "outputId": "2829132f-421a-4fdf-9565-618f7f630250",
    "scrolled": true,
    "tags": []
   },
   "outputs": [
    {
     "name": "stdout",
     "output_type": "stream",
     "text": [
      "1\n",
      "8\n"
     ]
    }
   ],
   "source": [
    "# See Above\n",
    "print(tonka_truck.horn)\n",
    "print(hotwheels_car.wheels)"
   ]
  },
  {
   "cell_type": "markdown",
   "metadata": {
    "id": "zv_Nh5mvmiOw"
   },
   "source": [
    "##### Setting Defaults for Attributes"
   ]
  },
  {
   "cell_type": "code",
   "execution_count": 11,
   "metadata": {
    "colab": {
     "base_uri": "https://localhost:8080/"
    },
    "id": "0AbcrGVYmiOw",
    "outputId": "2d012ff6-23bf-4131-dd93-8ad6a2f20088",
    "tags": []
   },
   "outputs": [
    {
     "name": "stdout",
     "output_type": "stream",
     "text": [
      "Blue\n",
      "4\n",
      "<__main__.Car object at 0x000001EED54E3310>\n"
     ]
    }
   ],
   "source": [
    "class Car():\n",
    "  engine = '4.7L'\n",
    "\n",
    "  def __init__(self,wheels):\n",
    "    self.wheels = wheels\n",
    "    self.color = 'Blue'\n",
    "\n",
    "honda = Car(4)\n",
    "print(honda.color)\n",
    "print(honda.wheels)\n",
    "honda.engine = '5.4L'\n",
    "print(honda)"
   ]
  },
  {
   "cell_type": "markdown",
   "metadata": {
    "id": "-AIZaLdCmiOw"
   },
   "source": [
    "##### Changing Class Attributes <br>\n",
    "<p>Keep in mind there are global class attributes and then there are attributes only available to each class instance which won't effect other classes.</p>"
   ]
  },
  {
   "cell_type": "code",
   "execution_count": null,
   "metadata": {
    "id": "g_bHw1uvmiOw"
   },
   "outputs": [],
   "source": [
    "#SEE ABOVE"
   ]
  },
  {
   "cell_type": "code",
   "execution_count": null,
   "metadata": {
    "id": "7xwACyW3miOw"
   },
   "outputs": [],
   "source": []
  },
  {
   "cell_type": "markdown",
   "metadata": {
    "id": "maVJbDxRmiOw"
   },
   "source": [
    "##### In-Class Exercise #2 - Add a doors and seats attribute to your 'Car' class then print out two different instances with different doors and seats"
   ]
  },
  {
   "cell_type": "code",
   "execution_count": 12,
   "metadata": {
    "colab": {
     "base_uri": "https://localhost:8080/"
    },
    "id": "-ij-KS1QmiOw",
    "outputId": "b79b0673-aaf5-47cf-dc09-8ccf01190652",
    "tags": []
   },
   "outputs": [
    {
     "name": "stdout",
     "output_type": "stream",
     "text": [
      "Leather\n",
      "4\n",
      "Mesh\n",
      "2\n"
     ]
    }
   ],
   "source": [
    "BMW.seats = 'Leather'\n",
    "BMW.doors = 4\n",
    "Toyota.seats = 'Mesh'\n",
    "Toyota.doors = 2\n",
    "\n",
    "def __init__(self,seats,doors):\n",
    "  self.seats = seats\n",
    "  self.doors = doors\n",
    "\n",
    "print(BMW.seats)\n",
    "print(BMW.doors)\n",
    "print(Toyota.seats)\n",
    "print(Toyota.doors)\n",
    "\n"
   ]
  },
  {
   "cell_type": "markdown",
   "metadata": {
    "id": "_iiS-quhmiOw"
   },
   "source": [
    "## Class Methods <br>\n",
    "<p>While inside of a class, functions are referred to as 'methods'. If you hear someone mention methods, they're speaking about classes. Methods are essentially functions, but only callable on the instances of a class.</p>"
   ]
  },
  {
   "cell_type": "markdown",
   "metadata": {
    "id": "5ZnyW7HrmiOw"
   },
   "source": [
    "##### Creating"
   ]
  },
  {
   "cell_type": "code",
   "execution_count": 13,
   "metadata": {
    "id": "c4lV2-cdmiOw",
    "tags": []
   },
   "outputs": [],
   "source": [
    "class ShoppingBag():\n",
    "  '''\n",
    "  The ShoppingBag class will have handles, capacity,\n",
    "  and items to place inside.\n",
    "\n",
    "  Attributes for the class:\n",
    "  - handles: expected to be an integer\n",
    "  - capacity: expected to be an integer\n",
    "  - items: expected to be a lsit\n",
    "  '''\n",
    "  def __init__(self,handles,items = [], capacity = 10):\n",
    "    self.handles = handles\n",
    "    self.items = items\n",
    "    self.capacity = capacity\n",
    "\n",
    "  def showShoppingBag(self):\n",
    "    if len(self.items) == 0:\n",
    "      print('you have no items.')\n",
    "    else:\n",
    "      print(\"you have items in your bag!!!\")\n",
    "      for item in self.items:\n",
    "        print(item)\n",
    "\n",
    "  def ShowCapacity(self):\n",
    "    print(f'Your remaining capacity is: {self.capacity - len(self.items)}')\n",
    "\n",
    "  def addToShoppingBag(self):\n",
    "    if len(self.items) == self.capacity:\n",
    "      print('you have no room.')\n",
    "    else:\n",
    "      product = input('What would you like to add? ')\n",
    "      self.items.append(product)# HOW DOES THIS WORK?\n",
    "\n",
    "  def showHandles(self):\n",
    "    print(f'you have {self.handles} handles on your bag')\n"
   ]
  },
  {
   "cell_type": "markdown",
   "metadata": {
    "id": "0FiD3-zomiOw"
   },
   "source": [
    "##### Calling"
   ]
  },
  {
   "cell_type": "code",
   "execution_count": 14,
   "metadata": {
    "colab": {
     "base_uri": "https://localhost:8080/"
    },
    "id": "DJWIFmYwmiOx",
    "outputId": "b02aca97-c13d-4bdc-c4b9-05df2f92e95f",
    "tags": []
   },
   "outputs": [
    {
     "name": "stdin",
     "output_type": "stream",
     "text": [
      "What would you like to do?\n",
      "\n",
      "-Add\n",
      "-Show\n",
      "-Quit\n",
      " quit\n"
     ]
    },
    {
     "name": "stdout",
     "output_type": "stream",
     "text": [
      "you have no items.\n",
      "Thanks for shopping!\n"
     ]
    }
   ],
   "source": [
    "# See Above\n",
    "wholeFoodsBag = ShoppingBag(2)\n",
    "\n",
    "def run():\n",
    "  while True:\n",
    "    response = input(\"What would you like to do?\\n\\n-Add\\n-Show\\n-Quit\\n\")\n",
    "    if response.lower() == 'quit':\n",
    "      wholeFoodsBag.showShoppingBag()\n",
    "      print(\"Thanks for shopping!\")\n",
    "      break\n",
    "    elif response.lower() == 'add':\n",
    "      wholeFoodsBag.addToShoppingBag()\n",
    "    elif response.lower() == 'show':\n",
    "      showChoice = input('What would you like to see: \\n- Capactiy\\n- Handles\\n- Shopping Bag\\n')\n",
    "      if showChoice.lower() == 'capacity':\n",
    "        wholeFoodsBag.ShowCapacity()\n",
    "      elif showChoice.lower() == 'handles':\n",
    "        wholeFoodsBag.showHandles()\n",
    "      else:\n",
    "        wholeFoodsBag.showShoppingBag()\n",
    "    else:\n",
    "      print('That is not a valid option. Please enter add, show, or quit')\n",
    "\n",
    "run()"
   ]
  },
  {
   "cell_type": "markdown",
   "metadata": {
    "id": "Zt3gtH03miOx"
   },
   "source": [
    "##### Modifying an Attribute's Value Through a Method"
   ]
  },
  {
   "cell_type": "code",
   "execution_count": null,
   "metadata": {
    "id": "2IvCLOYJmiOx"
   },
   "outputs": [],
   "source": [
    "#Video said we are not doing this part."
   ]
  },
  {
   "cell_type": "markdown",
   "metadata": {
    "id": "vaR9ju8fmiOx"
   },
   "source": [
    "##### Incrementing an Attribute's Value Through a Method"
   ]
  },
  {
   "cell_type": "code",
   "execution_count": null,
   "metadata": {
    "id": "Mo1mXIH-miOx"
   },
   "outputs": [],
   "source": [
    "#Video said we are not doing this part."
   ]
  },
  {
   "cell_type": "markdown",
   "metadata": {
    "id": "DaMq6K9HmiOx"
   },
   "source": [
    "##### In-Class Exercise #3 - Add a method that takes in three parameters of year, doors and seats and prints out a formatted print statement with make, model, year, seats, and doors"
   ]
  },
  {
   "cell_type": "code",
   "execution_count": null,
   "metadata": {
    "id": "hjE9EB7YmiOx"
   },
   "outputs": [],
   "source": [
    "# Create class with 2 paramters inside of the __init__ which are make and model\n",
    "\n",
    "# Inside of the Car class create a method that has 4 parameter in total (self,year,door,seats)\n",
    "\n",
    "# Output: This car is from 2019 and is a Ford Expolorer and has 4 doors and 5 seats\n",
    "\n"
   ]
  },
  {
   "cell_type": "markdown",
   "metadata": {
    "id": "COjO2EBfmiOx"
   },
   "source": [
    "## Inheritance <br>\n",
    "<p>You can create a child-parent relationship between two classes by using inheritance. What this allows you to do is have overriding methods, but also inherit traits from the parent class. Think of it as an actual parent and child, the child will inherit the parent's genes, as will the classes in OOP</p>"
   ]
  },
  {
   "cell_type": "markdown",
   "metadata": {
    "id": "yeQtpETKmiO1"
   },
   "source": [
    "##### Syntax for Inheriting from a Parent Class"
   ]
  },
  {
   "cell_type": "code",
   "execution_count": null,
   "metadata": {
    "id": "oxVvgU5XmiO2"
   },
   "outputs": [],
   "source": [
    "#Video cut off and looks like this section was skipped in the videos."
   ]
  },
  {
   "cell_type": "markdown",
   "metadata": {
    "id": "DpHrztiomiO2"
   },
   "source": [
    "##### The \\__init\\__() Method for a Child Class - super()"
   ]
  },
  {
   "cell_type": "code",
   "execution_count": null,
   "metadata": {
    "id": "5dVjZ6ycmiO2",
    "scrolled": true
   },
   "outputs": [],
   "source": [
    "#Video cut off and looks like this section was skipped in the videos."
   ]
  },
  {
   "cell_type": "markdown",
   "metadata": {
    "id": "vXn12L3imiO2"
   },
   "source": [
    "##### Defining Attributes and Methods for the Child Class"
   ]
  },
  {
   "cell_type": "code",
   "execution_count": null,
   "metadata": {
    "id": "ELB8lzKsmiO2"
   },
   "outputs": [],
   "source": [
    "# See Above"
   ]
  },
  {
   "cell_type": "markdown",
   "metadata": {
    "id": "VoyXomyfmiO2"
   },
   "source": [
    "##### Method Overriding"
   ]
  },
  {
   "cell_type": "code",
   "execution_count": null,
   "metadata": {
    "id": "Nivkeaq2miO2"
   },
   "outputs": [],
   "source": [
    "# See Above"
   ]
  },
  {
   "cell_type": "markdown",
   "metadata": {
    "id": "IHi4Oy0XmiO2"
   },
   "source": [
    "## Classes as Attributes <br>\n",
    "<p>Classes can also be used as attributes within another class. This is useful in situations where you need to keep variables locally stored, instead of globally stored.</p>"
   ]
  },
  {
   "cell_type": "code",
   "execution_count": null,
   "metadata": {
    "id": "5VAS8CJNmiO2"
   },
   "outputs": [],
   "source": [
    "#Video cut off and looks like this section was skipped in the videos."
   ]
  },
  {
   "cell_type": "markdown",
   "metadata": {
    "id": "d6IbninYmiO2"
   },
   "source": [
    "# Exercises"
   ]
  },
  {
   "cell_type": "markdown",
   "metadata": {
    "id": "zTkX0VbjmiO3"
   },
   "source": [
    "### Exercise 1 - Turn the shopping cart program from yesterday into an object-oriented program\n",
    "\n",
    "The comments in the cell below are there as a guide for thinking about the problem. However, if you feel a different way is best for you and your own thought process, please do what feels best for you by all means."
   ]
  },
  {
   "cell_type": "code",
   "execution_count": 2,
   "metadata": {
    "id": "e_d4NKUbmiO3",
    "tags": []
   },
   "outputs": [],
   "source": [
    "# Create a class called cart that retains items and has methods to add, remove, and show\n",
    "\n",
    "class Cart():\n",
    "  def __init__(self,carts,items = [], capacity = 20):\n",
    "    self.carts = carts\n",
    "    self.items = items\n",
    "    self.capacity = capacity\n",
    "\n",
    "  def ShowCartItems(self):\n",
    "    if len(self.items) == 0:\n",
    "      print('No items added.')\n",
    "    else:\n",
    "      print(\"Here are the items in your bag:\\n\")\n",
    "      for item in self.items:\n",
    "        print(item)\n",
    "\n",
    "  def ShowCartCapacity(self):\n",
    "    print(f'Your remaining capacity is: {self.capacity - len(self.items)}')\n",
    "\n",
    "  def AddToShoppingCart(self):\n",
    "    if len(self.items) == self.capacity:\n",
    "      print('Cart is full.')\n",
    "    else:\n",
    "      product = input('What item would you like to add? ')\n",
    "      self.items.append(product)# HOW DOES THIS WORK?\n",
    "\n",
    "  def DelCartItems(self):\n",
    "    product = input('What item would you like to remove?')\n",
    "    self.items.remove(product)\n",
    "\n",
    "\n",
    "\n",
    "\n"
   ]
  },
  {
   "cell_type": "code",
   "execution_count": 3,
   "metadata": {
    "colab": {
     "base_uri": "https://localhost:8080/",
     "height": 444
    },
    "id": "2ckZR9HUONid",
    "outputId": "e29649ce-7ba1-4ebc-e8b6-f9fce2e8bed1",
    "tags": []
   },
   "outputs": [
    {
     "name": "stdin",
     "output_type": "stream",
     "text": [
      "What would you like to do?\n",
      "\n",
      "-Add\n",
      "-Show\n",
      "-Remove\n",
      "-Quit\n",
      " add\n",
      "What item would you like to add?  a\n",
      "What would you like to do?\n",
      "\n",
      "-Add\n",
      "-Show\n",
      "-Remove\n",
      "-Quit\n",
      " add\n",
      "What item would you like to add?  b\n",
      "What would you like to do?\n",
      "\n",
      "-Add\n",
      "-Show\n",
      "-Remove\n",
      "-Quit\n",
      " add\n",
      "What item would you like to add?  c\n",
      "What would you like to do?\n",
      "\n",
      "-Add\n",
      "-Show\n",
      "-Remove\n",
      "-Quit\n",
      " remove\n",
      "What item would you like to remove? c\n",
      "What would you like to do?\n",
      "\n",
      "-Add\n",
      "-Show\n",
      "-Remove\n",
      "-Quit\n",
      " show\n"
     ]
    },
    {
     "name": "stdout",
     "output_type": "stream",
     "text": [
      "Here are the items in your bag:\n",
      "\n",
      "a\n",
      "b\n"
     ]
    },
    {
     "name": "stdin",
     "output_type": "stream",
     "text": [
      "What would you like to do?\n",
      "\n",
      "-Add\n",
      "-Show\n",
      "-Remove\n",
      "-Quit\n",
      " quit\n"
     ]
    },
    {
     "name": "stdout",
     "output_type": "stream",
     "text": [
      "Here are the items in your bag:\n",
      "\n",
      "a\n",
      "b\n",
      "Thanks for shopping at Kroger today!\n"
     ]
    }
   ],
   "source": [
    "KrogerTime = Cart(10)\n",
    "\n",
    "def run():\n",
    "  while True:\n",
    "    response = input(\"What would you like to do?\\n\\n-Add\\n-Show\\n-Remove\\n-Quit\\n\")\n",
    "    if response.lower() == 'quit':\n",
    "      KrogerTime.ShowCartItems()\n",
    "      print(\"Thanks for shopping at Kroger today!\")\n",
    "      break\n",
    "    elif response.lower() == 'add':\n",
    "      KrogerTime.AddToShoppingCart()\n",
    "    elif response.lower() == 'show':\n",
    "      KrogerTime.ShowCartItems()\n",
    "    elif response.lower() == 'remove':\n",
    "      KrogerTime.DelCartItems()\n",
    "      \n",
    "    \n",
    "    else:\n",
    "        KrogerTime.ShowCartItems()\n",
    "        print('That is not a valid option. Please enter add, show, remove, or quit')\n",
    "\n",
    "run()"
   ]
  },
  {
   "cell_type": "markdown",
   "metadata": {
    "id": "RvTehizBmiO3"
   },
   "source": [
    "### Exercise 2 - Write a Python class which has two methods get_String and print_String. get_String accept a string from the user and print_String print the string in upper case"
   ]
  },
  {
   "cell_type": "code",
   "execution_count": 10,
   "metadata": {
    "id": "HddZYb62miO3"
   },
   "outputs": [
    {
     "name": "stdin",
     "output_type": "stream",
     "text": [
      " chevy\n"
     ]
    },
    {
     "name": "stdout",
     "output_type": "stream",
     "text": [
      "CHEVY\n"
     ]
    }
   ],
   "source": [
    "class Truckbrand():\n",
    "    def __init__(self):\n",
    "        self.str1 = \"\"\n",
    "\n",
    "    def get_String(self):\n",
    "        self.str1 = input()\n",
    "\n",
    "    def print_String(self):\n",
    "        print(self.str1.upper())\n",
    "        \n",
    "\n",
    "str1 = Truckbrand()\n",
    "str1.get_String()\n",
    "str1.print_String()\n"
   ]
  },
  {
   "cell_type": "code",
   "execution_count": null,
   "metadata": {},
   "outputs": [],
   "source": []
  }
 ],
 "metadata": {
  "colab": {
   "provenance": []
  },
  "kernelspec": {
   "display_name": "Python 3 (ipykernel)",
   "language": "python",
   "name": "python3"
  },
  "language_info": {
   "codemirror_mode": {
    "name": "ipython",
    "version": 3
   },
   "file_extension": ".py",
   "mimetype": "text/x-python",
   "name": "python",
   "nbconvert_exporter": "python",
   "pygments_lexer": "ipython3",
   "version": "3.11.5"
  }
 },
 "nbformat": 4,
 "nbformat_minor": 4
}
